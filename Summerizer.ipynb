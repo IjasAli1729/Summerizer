{
 "cells": [
  {
   "cell_type": "code",
   "execution_count": 1,
   "id": "4ae8d453-c355-4e2c-9b2c-82deaa9761a4",
   "metadata": {},
   "outputs": [],
   "source": [
    "data = \"\"\"Members of the Agricultural Society and Citizens of Wisconsin:\n",
    "\n",
    "Agricultural Fairs are becoming an institution of the country; they are useful in more ways than one; they bring us together, and thereby make us better acquainted, and better friends than we otherwise would be. From the first appearance of man upon the earth, down to very recent times, the words \"stranger\" and \"enemy\" were quite or almost, synonymous. Long after civilized nations had defined robbery and murder as high crimes, and had affixed severe punishments to them, when practiced among and upon their own people respectively, it was deemed no offence, but even meritorious, to rob, and murder, and enslave strangers, whether as nations or as individuals. Even yet, this has not totally disappeared. The man of the highest moral cultivation, in spite of all which abstract principle can do, likes him whom he does know, much better than him whom he does not know. To correct the evils, great and small, which spring from want of sympathy, and from positive enmity, among strangers, as nations, or as individuals, is one of the highest functions of civilization. To this end our Agricultural Fairs contribute in no small degree. They make more pleasant, and more strong, and more durable, the bond of social and political union among us. Again, if as Pope declares, \"happiness is our being's end and aim,\" our Fairs contribute much to that end and aim, as occasions of recreation -- as holidays. Constituted as man is, he has positive need of occasional recreation; and whatever can give him this, associated with virtue and advantage, and free from vice and disadvantage, is a positive good. Such recreation our Fairs afford. They are a present pleasure, to be followed by no pain, as a consequence; they are a present pleasure, making the future more pleasant.\n",
    "\n",
    "But the chief use of agricultural fairs is to aid in improving the great calling of agriculture, in all it's departments, and minute divisions -- to make mutual exchange of agricultural discovery, information, and knowledge; so that, at the end, all may know every thing, which may have been known to but one, or to but a few, at the beginning -- to bring together especially all which is supposed to not be generally known, because of recent discovery, or invention.\n",
    "\n",
    "And not only to bring together, and to impart all which has been accidentally discovered or invented upon ordinary motive; but, by exciting emulation, for premiums, and for the pride and honor of success -- of triumph, in some sort -- to stimulate that discovery and invention into extraordinary activity. In this, these Fairs are kindred to the patent clause in the Constitution of the United States; and to the department, and practical system, based upon that clause.\n",
    "\n",
    "One feature, I believe, of every fair, is a regular address. The Agricultural Society of the young, prosperous, and soon to be, great State of Wisconsin, has done me the high honor of selecting me to make that address upon this occasion -- an honor for which I make my profound, and grateful acknowledgement.\n",
    "\n",
    "I presume I am not expected to employ the time assigned me, in the mere flattery of the farmers, as a class. My opinion of them is that, in proportion to numbers, they are neither better nor worse than any other class; and I believe there really are more attempts at flattering them than any other; the reason of which I cannot perceive, unless it be that they can cast more votes than any other. On reflection, I am not quite sure that there is not cause of suspicion against you, in selecting me, in some sort a politician, and in no sort a farmer, to address you.\n",
    "\n",
    "But farmers, being the most numerous class, it follows that their interest is the largest interest. It also follows that that interest is most worthy of all to be cherished and cultivated -- that if there be inevitable conflict between that interest and any other, that other should yield.\n",
    "\n",
    "Again, I suppose it is not expected of me to impart to you much specific information on Agriculture. You have no reason to believe, and do not believe, that I possess it -- if that were what you seek in this address, any one of your own number, or class, would be more able to furnish it.\n",
    "\n",
    "You, perhaps, do expect me to give some general interest to the occasion; and to make some general suggestions, on practical matters. I shall attempt nothing more. And in such suggestions by me, quite likely very little will be new to you, and a large part of the rest possibly already known to be erroneous.\n",
    "\n",
    "My first suggestion is an inquiry as to the effect of greater thoroughness in all the departments of Agriculture than now prevails in the North-West -- perhaps I might say in America. To speak entirely within bounds, it is known that fifty bushels of wheat, or one hundred bushels of Indian corn can be produced from an acre. Less than a year ago I saw it stated that a man, by extraordinary care and labor, had produced of wheat, what was equal to two hundred bushels from an acre. But take fifty of wheat, and one hundred of corn, to be the possibility, and compare with it the actual crops of the country. Many years ago I saw it stated in a Patent Office Report that eighteen bushels was the average crop throughout the wheat growing region of the United States; and this year an intelligent farmer of Illinois, assured me that he did not believe the land harvested in that State this season, had yielded more than an average of eight bushels to the acre. The brag crop I heard of in our vicinity was two thousand bushels from ninety acres. Many crops were thrashed, producing no more than three bushels to the acre; much was cut, and then abandoned as not worth threshing; and much was abandoned as not worth cutting. As to Indian corn, and indeed, most other crops, the case has not been much better. For the last four years I do not believe the ground planted with corn in Illinois, has produced an average of twenty bushels to the acre. It is true, that heretofore we have had better crops, with no better cultivators; but I believe it is also true that the soil has never been pushed up to one-half of its capacity.\n",
    "\n",
    "What would be the effect upon the farming interest, to push the soil up to something near its full capacity? Unquestionably it will take more labor to produce fifty bushels from an acre, than it will to produce ten bushes from the same acre. But will it take more labor to produce fifty bushes from one acre, than from five? Unquestionably, thorough cultivation will require more labor to the acre; but will it require more to the bushel? If it should require just as much to the bushel, there are some probable, and several certain, advantages in favor of the thorough practice. It is probable it would develope those unknown causes, or develope unknown cures for those causes, which of late years have cut down our crops below their former average. It is almost certain, I think, that in the deeper plowing, analysis of soils, experiments with manures, and varieties of seeds, observance of seasons, and the like, these cases [causes?] would be found. It is certain that thorough cultivation would spare half or more than half, the cost of land, simply because the same product would be got from half, or from less than half the quantity of land. This proposition is self-evident, and can be made no plainer by repetitions or illustrations. The cost of land is a great item, even in new countries; and constantly grows greater and greater, in comparison with other items, as the country grows older.\n",
    "\n",
    "It also would spare a large proportion of the making and maintaining of inclosures -- the same, whether these inclosures should be hedges, ditches, or fences. This again, is a heavy item -- heavy at first, and heavy in its continual demand for repairs. I remember once being greatly astonished by an apparently authentic exhibition of the proportion the cost of inclosures bears to all the other expenses of the farmer; though I can not remember exactly what that proportion was. Any farmer, if he will, can ascertain it in his own case, for himself.\n",
    "\n",
    "Again, a great amount of \"locomotion\" is spared by thorough cultivation. Take fifty bushes of wheat, ready for the harvest, standing upon a single acre, and it can be harvested in any of the known ways, with less than half the labor which would be required if it were spread over five acres. This would be true, if cut by the old hand sickle; true, to a greater extent if by the scythe and cradle; and to a still greater extend, if by the machines now in use. These machines are chiefly valuable, as a means of substituting animal power for the power of men in this branch of farm work. In the highest degree of perfection yet reached in applying the horse power to harvesting, fully nine-tenths of the power is expended by the animal in carrying himself and dragging the machine over the field, leaving certainly not more than one-tenth to be applied directly to the only end of the whole operation -- the gathering in the grain, and clipping of the straw. When grain is very thin on the ground, it is always more or less intermingled with weeds, chess and the like, and a large part of the power is expended in cutting these. It is plain that when the crop is very thick upon the ground, the larger proportion of the power is directly applied to gathering in and cutting it; and the smaller, to that which is totally useless as an end. And what I have said of harvesting is true, in a greater or less degree of mowing, plowing, gathering in of crops generally, and, indeed, of almost all farm work.\n",
    "\n",
    "The effect of thorough cultivation upon the farmer's own mind, and, in reaction through his mind, back upon his business, is perhaps quite equal to any other of its effects. Every man is proud of what he does well; and no man is proud of what he does not do well. With the former, his heart is in his work; and he will do twice as much of it with less fatigue. The latter performs a little imperfectly, looks at it in disgust, turns from it, and imagines himself exceedingly tired. The little he has done, comes to nothing, for want of finishing.\n",
    "\n",
    "The man who produces a good full crop will scarcely ever let any part of it go to waste. He will keep up the enclosure about it, and allow neither man nor beast to trespass upon it. He will gather it in due season and store it in perfect security. Thus he labors with satisfaction, and saves himself the whole fruit of his labor. The other, starting with no purpose for a full crop, labors less, and with less satisfaction; allows his fences to fall, and cattle to trespass; gathers not in due season, or not at all. Thus the labor he has performed, is wasted away, little by little, till in the end, he derives scarcely anything from it.\"\"\""
   ]
  },
  {
   "cell_type": "code",
   "execution_count": 12,
   "id": "861f6638-932b-46f8-9df7-59418d5c69b5",
   "metadata": {},
   "outputs": [],
   "source": [
    "import nltk\n",
    "import re\n",
    "from nltk.corpus import stopwords\n",
    "from nltk.stem.porter import PorterStemmer"
   ]
  },
  {
   "cell_type": "code",
   "execution_count": 10,
   "id": "d081d4f2-e9f5-4ea0-9b4b-15a88926cfb3",
   "metadata": {},
   "outputs": [],
   "source": [
    "ps = PorterStemmer()\n",
    "wordnet=WordNetLemmatizer()\n",
    "sentences = nltk.sent_tokenize(data)\n",
    "summery = []\n",
    "for i in range(len(sentences)):\n",
    "    review = re.sub('[^a-zA-Z]',' ', sentences[i])\n",
    "    review = review. lower()\n",
    "    review = review. split()\n",
    "    review = [ps.stem(word) for word in review if not word in set(stopwords.words('english'))]\n",
    "    review = ' '.join(review)\n",
    "    summery. append(review)"
   ]
  },
  {
   "cell_type": "code",
   "execution_count": 11,
   "id": "9f106559-d1b0-4a8d-9d72-2879510259ad",
   "metadata": {},
   "outputs": [
    {
     "data": {
      "text/plain": [
       "['member agricultur societi citizen wisconsin agricultur fair becom institut countri use way one bring us togeth therebi make us better acquaint better friend otherwis would',\n",
       " 'first appear man upon earth recent time word stranger enemi quit almost synonym',\n",
       " 'long civil nation defin robberi murder high crime affix sever punish practic among upon peopl respect deem offenc even meritori rob murder enslav stranger whether nation individu',\n",
       " 'even yet total disappear',\n",
       " 'man highest moral cultiv spite abstract principl like know much better know',\n",
       " 'correct evil great small spring want sympathi posit enmiti among stranger nation individu one highest function civil',\n",
       " 'end agricultur fair contribut small degre',\n",
       " 'make pleasant strong durabl bond social polit union among us',\n",
       " 'pope declar happi end aim fair contribut much end aim occas recreat holiday',\n",
       " 'constitut man posit need occasion recreat whatev give associ virtu advantag free vice disadvantag posit good',\n",
       " 'recreat fair afford',\n",
       " 'present pleasur follow pain consequ present pleasur make futur pleasant',\n",
       " 'chief use agricultur fair aid improv great call agricultur depart minut divis make mutual exchang agricultur discoveri inform knowledg end may know everi thing may known one begin bring togeth especi suppos gener known recent discoveri invent',\n",
       " 'bring togeth impart accident discov invent upon ordinari motiv excit emul premium pride honor success triumph sort stimul discoveri invent extraordinari activ',\n",
       " 'fair kindr patent claus constitut unit state depart practic system base upon claus',\n",
       " 'one featur believ everi fair regular address',\n",
       " 'agricultur societi young prosper soon great state wisconsin done high honor select make address upon occas honor make profound grate acknowledg',\n",
       " 'presum expect employ time assign mere flatteri farmer class',\n",
       " 'opinion proport number neither better wors class believ realli attempt flatter reason cannot perceiv unless cast vote',\n",
       " 'reflect quit sure caus suspicion select sort politician sort farmer address',\n",
       " 'farmer numer class follow interest largest interest',\n",
       " 'also follow interest worthi cherish cultiv inevit conflict interest yield',\n",
       " 'suppos expect impart much specif inform agricultur',\n",
       " 'reason believ believ possess seek address one number class would abl furnish',\n",
       " 'perhap expect give gener interest occas make gener suggest practic matter',\n",
       " 'shall attempt noth',\n",
       " 'suggest quit like littl new larg part rest possibl alreadi known erron',\n",
       " 'first suggest inquiri effect greater thorough depart agricultur prevail north west perhap might say america',\n",
       " 'speak entir within bound known fifti bushel wheat one hundr bushel indian corn produc acr',\n",
       " 'less year ago saw state man extraordinari care labor produc wheat equal two hundr bushel acr',\n",
       " 'take fifti wheat one hundr corn possibl compar actual crop countri',\n",
       " 'mani year ago saw state patent offic report eighteen bushel averag crop throughout wheat grow region unit state year intellig farmer illinoi assur believ land harvest state season yield averag eight bushel acr',\n",
       " 'brag crop heard vicin two thousand bushel nineti acr',\n",
       " 'mani crop thrash produc three bushel acr much cut abandon worth thresh much abandon worth cut',\n",
       " 'indian corn inde crop case much better',\n",
       " 'last four year believ ground plant corn illinoi produc averag twenti bushel acr',\n",
       " 'true heretofor better crop better cultiv believ also true soil never push one half capac',\n",
       " 'would effect upon farm interest push soil someth near full capac',\n",
       " 'unquestion take labor produc fifti bushel acr produc ten bush acr',\n",
       " 'take labor produc fifti bush one acr five',\n",
       " 'unquestion thorough cultiv requir labor acr requir bushel',\n",
       " 'requir much bushel probabl sever certain advantag favor thorough practic',\n",
       " 'probabl would develop unknown caus develop unknown cure caus late year cut crop former averag',\n",
       " 'almost certain think deeper plow analysi soil experi manur varieti seed observ season like case caus',\n",
       " 'would found',\n",
       " 'certain thorough cultiv would spare half half cost land simpli product would got half less half quantiti land',\n",
       " 'proposit self evid made plainer repetit illustr',\n",
       " 'cost land great item even new countri constantli grow greater greater comparison item countri grow older',\n",
       " 'also would spare larg proport make maintain inclosur whether inclosur hedg ditch fenc',\n",
       " 'heavi item heavi first heavi continu demand repair',\n",
       " 'rememb greatli astonish appar authent exhibit proport cost inclosur bear expens farmer though rememb exactli proport',\n",
       " 'farmer ascertain case',\n",
       " 'great amount locomot spare thorough cultiv',\n",
       " 'take fifti bush wheat readi harvest stand upon singl acr harvest known way less half labor would requir spread five acr',\n",
       " 'would true cut old hand sickl true greater extent scyth cradl still greater extend machin use',\n",
       " 'machin chiefli valuabl mean substitut anim power power men branch farm work',\n",
       " 'highest degre perfect yet reach appli hors power harvest fulli nine tenth power expend anim carri drag machin field leav certainli one tenth appli directli end whole oper gather grain clip straw',\n",
       " 'grain thin ground alway less intermingl weed chess like larg part power expend cut',\n",
       " 'plain crop thick upon ground larger proport power directli appli gather cut smaller total useless end',\n",
       " 'said harvest true greater less degre mow plow gather crop gener inde almost farm work',\n",
       " 'effect thorough cultiv upon farmer mind reaction mind back upon busi perhap quit equal effect',\n",
       " 'everi man proud well man proud well',\n",
       " 'former heart work twice much less fatigu',\n",
       " 'latter perform littl imperfectli look disgust turn imagin exceedingli tire',\n",
       " 'littl done come noth want finish',\n",
       " 'man produc good full crop scarc ever let part go wast',\n",
       " 'keep enclosur allow neither man beast trespass upon',\n",
       " 'gather due season store perfect secur',\n",
       " 'thu labor satisfact save whole fruit labor',\n",
       " 'start purpos full crop labor less less satisfact allow fenc fall cattl trespass gather due season',\n",
       " 'thu labor perform wast away littl littl till end deriv scarc anyth']"
      ]
     },
     "execution_count": 11,
     "metadata": {},
     "output_type": "execute_result"
    }
   ],
   "source": [
    "summery"
   ]
  },
  {
   "cell_type": "code",
   "execution_count": null,
   "id": "a46bb4ca-d916-4cbe-8ebc-30f7af444708",
   "metadata": {},
   "outputs": [],
   "source": []
  }
 ],
 "metadata": {
  "kernelspec": {
   "display_name": "Python 3 (ipykernel)",
   "language": "python",
   "name": "python3"
  },
  "language_info": {
   "codemirror_mode": {
    "name": "ipython",
    "version": 3
   },
   "file_extension": ".py",
   "mimetype": "text/x-python",
   "name": "python",
   "nbconvert_exporter": "python",
   "pygments_lexer": "ipython3",
   "version": "3.12.11"
  }
 },
 "nbformat": 4,
 "nbformat_minor": 5
}
